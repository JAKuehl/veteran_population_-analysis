{
 "cells": [
  {
   "cell_type": "markdown",
   "metadata": {},
   "source": [
    "# Clustering of Vetrans that do not enroll\n",
    "---\n"
   ]
  },
  {
   "cell_type": "code",
   "execution_count": null,
   "metadata": {},
   "outputs": [],
   "source": [
    "# Import libraries\n",
    "import pandas as pd\n",
    "import scipy as sc\n",
    "import numpy as np\n",
    "\n",
    "import matplotlib.pyplot as plt\n",
    "import seaborn as sns; sns.set(style=\"ticks\", color_codes=True)\n",
    "\n",
    "from sklearn.preprocessing import StandardScaler\n",
    "from sklearn.metrics import silhouette_score\n",
    "from sklearn.cluster import DBSCAN, KMeans, AffinityPropagation"
   ]
  },
  {
   "cell_type": "code",
   "execution_count": null,
   "metadata": {},
   "outputs": [],
   "source": [
    "# Read in data\n",
    "vet_5 = pd.read_csv(\"../veteran_population_-analysis/working_data/vets_1yr_clean.csv\")\n",
    "\n",
    "'''Additional viewing options'''\n",
    "# This code sets the notebook to display maximum columns.  Uncomment it to see trunacted view\n",
    "pd.set_option('display.max_columns', len(vet_5))  \n",
    "\n",
    "# This resets the view to a truncated output\n",
    "#pd.reset_option('display.max_rows')\n",
    "\n",
    "vet_5.head()"
   ]
  },
  {
   "cell_type": "code",
   "execution_count": null,
   "metadata": {},
   "outputs": [],
   "source": [
    "# Since enrollment is a feature we can eliminate all those that enroll to focus on clustering non-enrollers\n",
    "vet_5_non = vet_5[vet_5.HINS6_2 == 1]\n",
    "vet_5_non.info()"
   ]
  },
  {
   "cell_type": "code",
   "execution_count": null,
   "metadata": {},
   "outputs": [],
   "source": [
    "# Clustering on veteran specific statistics like Era and Service connected disability\n",
    "feat = ['DRAT', 'DRATX_2', 'MLPB_0', 'MLPB_1', 'MLPCD_0', 'MLPCD_1', 'MLPA_0', \n",
    "        'MLPA_1', 'MLPE_0', 'MLPE_1', 'MLPFG_0', 'MLPFG_1',\t'MLPH_0', 'MLPH_1',\t'MLPI_0', \n",
    "        'MLPI_1', 'VPS_1',\t'VPS_2', 'VPS_3', 'VPS_4', 'VPS_5', 'VPS_6', 'VPS_7', 'VPS_8',\n",
    "        'VPS_9', 'VPS_10', 'VPS_11', 'VPS_12', 'VPS_13', 'VPS_14', 'VPS_15', 'ESR_0']\n",
    "indep = vet_5_non[feat]"
   ]
  },
  {
   "cell_type": "code",
   "execution_count": null,
   "metadata": {},
   "outputs": [],
   "source": [
    "\n",
    "def cluster(model, indep):\n",
    "    # Scale data\n",
    "    ss = StandardScaler()\n",
    "    indep_scaled = ss.fit_transform(indep)\n",
    "    \n",
    "    #Instantiate\n",
    "    model_i = model\n",
    "    \n",
    "    #Fit the model\n",
    "    model_fit = model_i.fit(indep_scaled)\n",
    "    set(model_i.labels_)\n",
    "    \n",
    "    # Score Model\n",
    "    score = silhouette_score(indep_scaled, model_fit.labels_)\n",
    "    \n",
    "    # Create cluster column\n",
    "    model_fit['cluster'] = model_fit.labels_\n",
    "    \n",
    "    results = indep.groupby('cluster').mean().T[[0,1]]\n",
    "    \n",
    "    print(f\"{model} scored: {round(score, 2)}\")\n",
    "    \n",
    "    return results"
   ]
  },
  {
   "cell_type": "code",
   "execution_count": null,
   "metadata": {},
   "outputs": [],
   "source": [
    "results = cluster(DBSCAN(n_jobs=-1), indep)"
   ]
  },
  {
   "cell_type": "code",
   "execution_count": null,
   "metadata": {},
   "outputs": [],
   "source": [
    "results = cluster(KMeans(n_jobs=-1), indep)"
   ]
  },
  {
   "cell_type": "code",
   "execution_count": null,
   "metadata": {},
   "outputs": [],
   "source": [
    "\n",
    "subjective_pca = PCA(n_components=5)\n",
    "pca = subjective_pca.fit(subjective_cols.values)"
   ]
  },
  {
   "cell_type": "code",
   "execution_count": null,
   "metadata": {},
   "outputs": [],
   "source": [
    "# Evaluate coefficients\n"
   ]
  },
  {
   "cell_type": "code",
   "execution_count": null,
   "metadata": {},
   "outputs": [],
   "source": []
  },
  {
   "cell_type": "code",
   "execution_count": null,
   "metadata": {},
   "outputs": [],
   "source": []
  },
  {
   "cell_type": "code",
   "execution_count": null,
   "metadata": {},
   "outputs": [],
   "source": []
  },
  {
   "cell_type": "code",
   "execution_count": null,
   "metadata": {},
   "outputs": [],
   "source": []
  },
  {
   "cell_type": "code",
   "execution_count": null,
   "metadata": {},
   "outputs": [],
   "source": []
  },
  {
   "cell_type": "code",
   "execution_count": null,
   "metadata": {},
   "outputs": [],
   "source": []
  },
  {
   "cell_type": "code",
   "execution_count": null,
   "metadata": {},
   "outputs": [],
   "source": []
  },
  {
   "cell_type": "code",
   "execution_count": null,
   "metadata": {},
   "outputs": [],
   "source": []
  },
  {
   "cell_type": "code",
   "execution_count": null,
   "metadata": {},
   "outputs": [],
   "source": []
  },
  {
   "cell_type": "code",
   "execution_count": null,
   "metadata": {},
   "outputs": [],
   "source": []
  },
  {
   "cell_type": "code",
   "execution_count": null,
   "metadata": {},
   "outputs": [],
   "source": []
  },
  {
   "cell_type": "code",
   "execution_count": null,
   "metadata": {},
   "outputs": [],
   "source": []
  },
  {
   "cell_type": "code",
   "execution_count": null,
   "metadata": {},
   "outputs": [],
   "source": [
    "# Repeat with 5 year data"
   ]
  },
  {
   "cell_type": "code",
   "execution_count": null,
   "metadata": {},
   "outputs": [],
   "source": []
  },
  {
   "cell_type": "code",
   "execution_count": null,
   "metadata": {},
   "outputs": [],
   "source": []
  }
 ],
 "metadata": {
  "kernelspec": {
   "display_name": "Python 3",
   "language": "python",
   "name": "python3"
  },
  "language_info": {
   "codemirror_mode": {
    "name": "ipython",
    "version": 3
   },
   "file_extension": ".py",
   "mimetype": "text/x-python",
   "name": "python",
   "nbconvert_exporter": "python",
   "pygments_lexer": "ipython3",
   "version": "3.8.1"
  }
 },
 "nbformat": 4,
 "nbformat_minor": 4
}
